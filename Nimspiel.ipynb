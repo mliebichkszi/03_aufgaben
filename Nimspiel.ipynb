{
 "cells": [
  {
   "cell_type": "code",
   "execution_count": null,
   "id": "3aa7f309",
   "metadata": {
    "code_folding": []
   },
   "outputs": [
    {
     "name": "stdout",
     "output_type": "stream",
     "text": [
      "    I\n",
      "   III\n",
      "  IIIII\n",
      " IIIIIII\n",
      "Welche Reihe?1\n",
      "Wieviele?1\n",
      "    \n",
      "   III\n",
      "  IIIII\n",
      " IIIIIII\n",
      "Welche Reihe?2\n",
      "Wieviele?2\n",
      "    \n",
      "   I\n",
      "  IIIII\n",
      " IIIIIII\n",
      "Welche Reihe?2\n",
      "Wieviele?3\n",
      "    \n",
      "   \n",
      "  IIIII\n",
      " IIIIIII\n"
     ]
    }
   ],
   "source": [
    "spielfeld = [1, 3, 5, 7]\n",
    "anzahl = 3\n",
    "spielstatus = 1\n",
    "\n",
    "def zeichnespielfeld(anzahl):\n",
    "    for zahl in spielfeld:\n",
    "        print(anzahl*\" \", zahl*\"I\")\n",
    "        anzahl = anzahl - 1\n",
    "\n",
    "def spielerinzug():\n",
    "    # int() wandelt einen String in einen Integer um\n",
    "    reihe = int(input(\"Welche Reihe?\")) - 1\n",
    "    wieviele = int(input(\"Wieviele?\"))\n",
    "    spielfeld[reihe] = spielfeld[reihe] - wieviele\n",
    "\n",
    "while spielstatus == 1:\n",
    "    zeichnespielfeld(anzahl)\n",
    "    spielerinzug()\n"
   ]
  },
  {
   "cell_type": "code",
   "execution_count": null,
   "id": "601959fd",
   "metadata": {},
   "outputs": [],
   "source": []
  }
 ],
 "metadata": {
  "kernelspec": {
   "display_name": "Python 3 (ipykernel)",
   "language": "python",
   "name": "python3"
  },
  "language_info": {
   "codemirror_mode": {
    "name": "ipython",
    "version": 3
   },
   "file_extension": ".py",
   "mimetype": "text/x-python",
   "name": "python",
   "nbconvert_exporter": "python",
   "pygments_lexer": "ipython3",
   "version": "3.9.7"
  }
 },
 "nbformat": 4,
 "nbformat_minor": 5
}
